{
 "cells": [
  {
   "cell_type": "code",
   "execution_count": 12,
   "id": "9cf9c538-b966-4ab4-ba3c-457786d105a6",
   "metadata": {},
   "outputs": [],
   "source": [
    "import pandas as pd\n",
    "import seaborn as sns"
   ]
  },
  {
   "cell_type": "code",
   "execution_count": 7,
   "id": "f9fcee0c-cfe3-4754-914d-463846306a78",
   "metadata": {},
   "outputs": [],
   "source": [
    "df=pd.read_csv(r'C:\\Users\\prerana\\Downloads\\BlackFriday.csv')"
   ]
  },
  {
   "cell_type": "code",
   "execution_count": 4,
   "id": "2151cc60-a2a9-47ac-b5ff-6331e48cb63e",
   "metadata": {},
   "outputs": [
    {
     "data": {
      "text/html": [
       "<div>\n",
       "<style scoped>\n",
       "    .dataframe tbody tr th:only-of-type {\n",
       "        vertical-align: middle;\n",
       "    }\n",
       "\n",
       "    .dataframe tbody tr th {\n",
       "        vertical-align: top;\n",
       "    }\n",
       "\n",
       "    .dataframe thead th {\n",
       "        text-align: right;\n",
       "    }\n",
       "</style>\n",
       "<table border=\"1\" class=\"dataframe\">\n",
       "  <thead>\n",
       "    <tr style=\"text-align: right;\">\n",
       "      <th></th>\n",
       "      <th>User_ID</th>\n",
       "      <th>Product_ID</th>\n",
       "      <th>Gender</th>\n",
       "      <th>Age</th>\n",
       "      <th>Occupation</th>\n",
       "      <th>City_Category</th>\n",
       "      <th>Stay_In_Current_City_Years</th>\n",
       "      <th>Marital_Status</th>\n",
       "      <th>Product_Category_1</th>\n",
       "      <th>Product_Category_2</th>\n",
       "      <th>Product_Category_3</th>\n",
       "      <th>Purchase</th>\n",
       "    </tr>\n",
       "  </thead>\n",
       "  <tbody>\n",
       "    <tr>\n",
       "      <th>0</th>\n",
       "      <td>1000001</td>\n",
       "      <td>P00069042</td>\n",
       "      <td>F</td>\n",
       "      <td>0-17</td>\n",
       "      <td>10</td>\n",
       "      <td>A</td>\n",
       "      <td>2</td>\n",
       "      <td>0</td>\n",
       "      <td>3</td>\n",
       "      <td>NaN</td>\n",
       "      <td>NaN</td>\n",
       "      <td>8370</td>\n",
       "    </tr>\n",
       "    <tr>\n",
       "      <th>1</th>\n",
       "      <td>1000001</td>\n",
       "      <td>P00248942</td>\n",
       "      <td>F</td>\n",
       "      <td>0-17</td>\n",
       "      <td>10</td>\n",
       "      <td>A</td>\n",
       "      <td>2</td>\n",
       "      <td>0</td>\n",
       "      <td>1</td>\n",
       "      <td>6.0</td>\n",
       "      <td>14.0</td>\n",
       "      <td>15200</td>\n",
       "    </tr>\n",
       "    <tr>\n",
       "      <th>2</th>\n",
       "      <td>1000001</td>\n",
       "      <td>P00087842</td>\n",
       "      <td>F</td>\n",
       "      <td>0-17</td>\n",
       "      <td>10</td>\n",
       "      <td>A</td>\n",
       "      <td>2</td>\n",
       "      <td>0</td>\n",
       "      <td>12</td>\n",
       "      <td>NaN</td>\n",
       "      <td>NaN</td>\n",
       "      <td>1422</td>\n",
       "    </tr>\n",
       "    <tr>\n",
       "      <th>3</th>\n",
       "      <td>1000001</td>\n",
       "      <td>P00085442</td>\n",
       "      <td>F</td>\n",
       "      <td>0-17</td>\n",
       "      <td>10</td>\n",
       "      <td>A</td>\n",
       "      <td>2</td>\n",
       "      <td>0</td>\n",
       "      <td>12</td>\n",
       "      <td>14.0</td>\n",
       "      <td>NaN</td>\n",
       "      <td>1057</td>\n",
       "    </tr>\n",
       "    <tr>\n",
       "      <th>4</th>\n",
       "      <td>1000002</td>\n",
       "      <td>P00285442</td>\n",
       "      <td>M</td>\n",
       "      <td>55+</td>\n",
       "      <td>16</td>\n",
       "      <td>C</td>\n",
       "      <td>4+</td>\n",
       "      <td>0</td>\n",
       "      <td>8</td>\n",
       "      <td>NaN</td>\n",
       "      <td>NaN</td>\n",
       "      <td>7969</td>\n",
       "    </tr>\n",
       "  </tbody>\n",
       "</table>\n",
       "</div>"
      ],
      "text/plain": [
       "   User_ID Product_ID Gender   Age  Occupation City_Category  \\\n",
       "0  1000001  P00069042      F  0-17          10             A   \n",
       "1  1000001  P00248942      F  0-17          10             A   \n",
       "2  1000001  P00087842      F  0-17          10             A   \n",
       "3  1000001  P00085442      F  0-17          10             A   \n",
       "4  1000002  P00285442      M   55+          16             C   \n",
       "\n",
       "  Stay_In_Current_City_Years  Marital_Status  Product_Category_1  \\\n",
       "0                          2               0                   3   \n",
       "1                          2               0                   1   \n",
       "2                          2               0                  12   \n",
       "3                          2               0                  12   \n",
       "4                         4+               0                   8   \n",
       "\n",
       "   Product_Category_2  Product_Category_3  Purchase  \n",
       "0                 NaN                 NaN      8370  \n",
       "1                 6.0                14.0     15200  \n",
       "2                 NaN                 NaN      1422  \n",
       "3                14.0                 NaN      1057  \n",
       "4                 NaN                 NaN      7969  "
      ]
     },
     "execution_count": 4,
     "metadata": {},
     "output_type": "execute_result"
    }
   ],
   "source": [
    "df.head()"
   ]
  },
  {
   "cell_type": "code",
   "execution_count": 7,
   "id": "4037b828-39ec-4c23-99ce-96beb1cb7d88",
   "metadata": {},
   "outputs": [
    {
     "name": "stdout",
     "output_type": "stream",
     "text": [
      "<class 'pandas.core.frame.DataFrame'>\n",
      "RangeIndex: 537577 entries, 0 to 537576\n",
      "Data columns (total 12 columns):\n",
      " #   Column                      Non-Null Count   Dtype  \n",
      "---  ------                      --------------   -----  \n",
      " 0   User_ID                     537577 non-null  int64  \n",
      " 1   Product_ID                  537577 non-null  object \n",
      " 2   Gender                      537577 non-null  object \n",
      " 3   Age                         537577 non-null  object \n",
      " 4   Occupation                  537577 non-null  int64  \n",
      " 5   City_Category               537577 non-null  object \n",
      " 6   Stay_In_Current_City_Years  537577 non-null  object \n",
      " 7   Marital_Status              537577 non-null  int64  \n",
      " 8   Product_Category_1          537577 non-null  int64  \n",
      " 9   Product_Category_2          370591 non-null  float64\n",
      " 10  Product_Category_3          164278 non-null  float64\n",
      " 11  Purchase                    537577 non-null  int64  \n",
      "dtypes: float64(2), int64(5), object(5)\n",
      "memory usage: 49.2+ MB\n"
     ]
    }
   ],
   "source": [
    "df.info()"
   ]
  },
  {
   "cell_type": "code",
   "execution_count": 8,
   "id": "1380be67-cca4-4924-b51f-a7c100ff4521",
   "metadata": {},
   "outputs": [
    {
     "data": {
      "text/html": [
       "<div>\n",
       "<style scoped>\n",
       "    .dataframe tbody tr th:only-of-type {\n",
       "        vertical-align: middle;\n",
       "    }\n",
       "\n",
       "    .dataframe tbody tr th {\n",
       "        vertical-align: top;\n",
       "    }\n",
       "\n",
       "    .dataframe thead th {\n",
       "        text-align: right;\n",
       "    }\n",
       "</style>\n",
       "<table border=\"1\" class=\"dataframe\">\n",
       "  <thead>\n",
       "    <tr style=\"text-align: right;\">\n",
       "      <th></th>\n",
       "      <th>User_ID</th>\n",
       "      <th>Product_ID</th>\n",
       "      <th>Gender</th>\n",
       "      <th>Age</th>\n",
       "      <th>Occupation</th>\n",
       "      <th>City_Category</th>\n",
       "      <th>Stay_In_Current_City_Years</th>\n",
       "      <th>Marital_Status</th>\n",
       "      <th>Product_Category_1</th>\n",
       "      <th>Product_Category_2</th>\n",
       "      <th>Product_Category_3</th>\n",
       "      <th>Purchase</th>\n",
       "    </tr>\n",
       "  </thead>\n",
       "  <tbody>\n",
       "    <tr>\n",
       "      <th>0</th>\n",
       "      <td>1000001</td>\n",
       "      <td>P00069042</td>\n",
       "      <td>F</td>\n",
       "      <td>0-17</td>\n",
       "      <td>10</td>\n",
       "      <td>A</td>\n",
       "      <td>2</td>\n",
       "      <td>0</td>\n",
       "      <td>3</td>\n",
       "      <td>NaN</td>\n",
       "      <td>NaN</td>\n",
       "      <td>8370</td>\n",
       "    </tr>\n",
       "    <tr>\n",
       "      <th>1</th>\n",
       "      <td>1000001</td>\n",
       "      <td>P00248942</td>\n",
       "      <td>F</td>\n",
       "      <td>0-17</td>\n",
       "      <td>10</td>\n",
       "      <td>A</td>\n",
       "      <td>2</td>\n",
       "      <td>0</td>\n",
       "      <td>1</td>\n",
       "      <td>6.0</td>\n",
       "      <td>14.0</td>\n",
       "      <td>15200</td>\n",
       "    </tr>\n",
       "    <tr>\n",
       "      <th>2</th>\n",
       "      <td>1000001</td>\n",
       "      <td>P00087842</td>\n",
       "      <td>F</td>\n",
       "      <td>0-17</td>\n",
       "      <td>10</td>\n",
       "      <td>A</td>\n",
       "      <td>2</td>\n",
       "      <td>0</td>\n",
       "      <td>12</td>\n",
       "      <td>NaN</td>\n",
       "      <td>NaN</td>\n",
       "      <td>1422</td>\n",
       "    </tr>\n",
       "    <tr>\n",
       "      <th>3</th>\n",
       "      <td>1000001</td>\n",
       "      <td>P00085442</td>\n",
       "      <td>F</td>\n",
       "      <td>0-17</td>\n",
       "      <td>10</td>\n",
       "      <td>A</td>\n",
       "      <td>2</td>\n",
       "      <td>0</td>\n",
       "      <td>12</td>\n",
       "      <td>14.0</td>\n",
       "      <td>NaN</td>\n",
       "      <td>1057</td>\n",
       "    </tr>\n",
       "    <tr>\n",
       "      <th>4</th>\n",
       "      <td>1000002</td>\n",
       "      <td>P00285442</td>\n",
       "      <td>M</td>\n",
       "      <td>55+</td>\n",
       "      <td>16</td>\n",
       "      <td>C</td>\n",
       "      <td>4+</td>\n",
       "      <td>0</td>\n",
       "      <td>8</td>\n",
       "      <td>NaN</td>\n",
       "      <td>NaN</td>\n",
       "      <td>7969</td>\n",
       "    </tr>\n",
       "    <tr>\n",
       "      <th>...</th>\n",
       "      <td>...</td>\n",
       "      <td>...</td>\n",
       "      <td>...</td>\n",
       "      <td>...</td>\n",
       "      <td>...</td>\n",
       "      <td>...</td>\n",
       "      <td>...</td>\n",
       "      <td>...</td>\n",
       "      <td>...</td>\n",
       "      <td>...</td>\n",
       "      <td>...</td>\n",
       "      <td>...</td>\n",
       "    </tr>\n",
       "    <tr>\n",
       "      <th>537572</th>\n",
       "      <td>1004737</td>\n",
       "      <td>P00193542</td>\n",
       "      <td>M</td>\n",
       "      <td>36-45</td>\n",
       "      <td>16</td>\n",
       "      <td>C</td>\n",
       "      <td>1</td>\n",
       "      <td>0</td>\n",
       "      <td>1</td>\n",
       "      <td>2.0</td>\n",
       "      <td>NaN</td>\n",
       "      <td>11664</td>\n",
       "    </tr>\n",
       "    <tr>\n",
       "      <th>537573</th>\n",
       "      <td>1004737</td>\n",
       "      <td>P00111142</td>\n",
       "      <td>M</td>\n",
       "      <td>36-45</td>\n",
       "      <td>16</td>\n",
       "      <td>C</td>\n",
       "      <td>1</td>\n",
       "      <td>0</td>\n",
       "      <td>1</td>\n",
       "      <td>15.0</td>\n",
       "      <td>16.0</td>\n",
       "      <td>19196</td>\n",
       "    </tr>\n",
       "    <tr>\n",
       "      <th>537574</th>\n",
       "      <td>1004737</td>\n",
       "      <td>P00345942</td>\n",
       "      <td>M</td>\n",
       "      <td>36-45</td>\n",
       "      <td>16</td>\n",
       "      <td>C</td>\n",
       "      <td>1</td>\n",
       "      <td>0</td>\n",
       "      <td>8</td>\n",
       "      <td>15.0</td>\n",
       "      <td>NaN</td>\n",
       "      <td>8043</td>\n",
       "    </tr>\n",
       "    <tr>\n",
       "      <th>537575</th>\n",
       "      <td>1004737</td>\n",
       "      <td>P00285842</td>\n",
       "      <td>M</td>\n",
       "      <td>36-45</td>\n",
       "      <td>16</td>\n",
       "      <td>C</td>\n",
       "      <td>1</td>\n",
       "      <td>0</td>\n",
       "      <td>5</td>\n",
       "      <td>NaN</td>\n",
       "      <td>NaN</td>\n",
       "      <td>7172</td>\n",
       "    </tr>\n",
       "    <tr>\n",
       "      <th>537576</th>\n",
       "      <td>1004737</td>\n",
       "      <td>P00118242</td>\n",
       "      <td>M</td>\n",
       "      <td>36-45</td>\n",
       "      <td>16</td>\n",
       "      <td>C</td>\n",
       "      <td>1</td>\n",
       "      <td>0</td>\n",
       "      <td>5</td>\n",
       "      <td>8.0</td>\n",
       "      <td>NaN</td>\n",
       "      <td>6875</td>\n",
       "    </tr>\n",
       "  </tbody>\n",
       "</table>\n",
       "<p>537577 rows × 12 columns</p>\n",
       "</div>"
      ],
      "text/plain": [
       "        User_ID Product_ID Gender    Age  Occupation City_Category  \\\n",
       "0       1000001  P00069042      F   0-17          10             A   \n",
       "1       1000001  P00248942      F   0-17          10             A   \n",
       "2       1000001  P00087842      F   0-17          10             A   \n",
       "3       1000001  P00085442      F   0-17          10             A   \n",
       "4       1000002  P00285442      M    55+          16             C   \n",
       "...         ...        ...    ...    ...         ...           ...   \n",
       "537572  1004737  P00193542      M  36-45          16             C   \n",
       "537573  1004737  P00111142      M  36-45          16             C   \n",
       "537574  1004737  P00345942      M  36-45          16             C   \n",
       "537575  1004737  P00285842      M  36-45          16             C   \n",
       "537576  1004737  P00118242      M  36-45          16             C   \n",
       "\n",
       "       Stay_In_Current_City_Years  Marital_Status  Product_Category_1  \\\n",
       "0                               2               0                   3   \n",
       "1                               2               0                   1   \n",
       "2                               2               0                  12   \n",
       "3                               2               0                  12   \n",
       "4                              4+               0                   8   \n",
       "...                           ...             ...                 ...   \n",
       "537572                          1               0                   1   \n",
       "537573                          1               0                   1   \n",
       "537574                          1               0                   8   \n",
       "537575                          1               0                   5   \n",
       "537576                          1               0                   5   \n",
       "\n",
       "        Product_Category_2  Product_Category_3  Purchase  \n",
       "0                      NaN                 NaN      8370  \n",
       "1                      6.0                14.0     15200  \n",
       "2                      NaN                 NaN      1422  \n",
       "3                     14.0                 NaN      1057  \n",
       "4                      NaN                 NaN      7969  \n",
       "...                    ...                 ...       ...  \n",
       "537572                 2.0                 NaN     11664  \n",
       "537573                15.0                16.0     19196  \n",
       "537574                15.0                 NaN      8043  \n",
       "537575                 NaN                 NaN      7172  \n",
       "537576                 8.0                 NaN      6875  \n",
       "\n",
       "[537577 rows x 12 columns]"
      ]
     },
     "execution_count": 8,
     "metadata": {},
     "output_type": "execute_result"
    }
   ],
   "source": [
    "df"
   ]
  },
  {
   "cell_type": "code",
   "execution_count": 11,
   "id": "44f19858-1daf-4315-bf5a-b69aab15825d",
   "metadata": {},
   "outputs": [
    {
     "data": {
      "text/plain": [
       "User_ID                            0\n",
       "Product_ID                         0\n",
       "Gender                             0\n",
       "Age                                0\n",
       "Occupation                         0\n",
       "City_Category                      0\n",
       "Stay_In_Current_City_Years         0\n",
       "Marital_Status                     0\n",
       "Product_Category_1                 0\n",
       "Product_Category_2            166986\n",
       "Product_Category_3            373299\n",
       "Purchase                           0\n",
       "dtype: int64"
      ]
     },
     "execution_count": 11,
     "metadata": {},
     "output_type": "execute_result"
    }
   ],
   "source": [
    "df.isnull().sum()"
   ]
  },
  {
   "cell_type": "code",
   "execution_count": 5,
   "id": "f350ef9c-b56d-44ef-a099-5df74805d3ad",
   "metadata": {},
   "outputs": [],
   "source": [
    "del df['Product_Category_2']\n",
    "del df['Product_Category_3']"
   ]
  },
  {
   "cell_type": "code",
   "execution_count": 15,
   "id": "840da822-48f6-44de-8f01-0a68c72b8348",
   "metadata": {},
   "outputs": [
    {
     "data": {
      "text/plain": [
       "User_ID                       0\n",
       "Product_ID                    0\n",
       "Gender                        0\n",
       "Age                           0\n",
       "Occupation                    0\n",
       "City_Category                 0\n",
       "Stay_In_Current_City_Years    0\n",
       "Marital_Status                0\n",
       "Product_Category_1            0\n",
       "Purchase                      0\n",
       "dtype: int64"
      ]
     },
     "execution_count": 15,
     "metadata": {},
     "output_type": "execute_result"
    }
   ],
   "source": [
    "df.isnull().sum()"
   ]
  },
  {
   "cell_type": "code",
   "execution_count": 17,
   "id": "44dff406-20de-4e83-bab7-efc8a4fe5141",
   "metadata": {},
   "outputs": [
    {
     "data": {
      "text/plain": [
       "5891"
      ]
     },
     "execution_count": 17,
     "metadata": {},
     "output_type": "execute_result"
    }
   ],
   "source": [
    "df['User_ID'].nunique()"
   ]
  },
  {
   "cell_type": "code",
   "execution_count": 19,
   "id": "961662ba-35ce-4831-8486-5bdc7ee07059",
   "metadata": {},
   "outputs": [
    {
     "data": {
      "text/plain": [
       "array([1000001, 1000002, 1000003, ..., 1004113, 1005391, 1001529],\n",
       "      dtype=int64)"
      ]
     },
     "execution_count": 19,
     "metadata": {},
     "output_type": "execute_result"
    }
   ],
   "source": [
    "df['User_ID'].unique()"
   ]
  },
  {
   "cell_type": "code",
   "execution_count": 21,
   "id": "73bd917e-62fb-42e4-9227-c5c4471a0025",
   "metadata": {},
   "outputs": [
    {
     "data": {
      "text/plain": [
       "3623"
      ]
     },
     "execution_count": 21,
     "metadata": {},
     "output_type": "execute_result"
    }
   ],
   "source": [
    "df['Product_ID'].nunique()"
   ]
  },
  {
   "cell_type": "code",
   "execution_count": 23,
   "id": "66d2d8d9-5b36-422f-8c76-d4d4c4811252",
   "metadata": {},
   "outputs": [
    {
     "data": {
      "text/plain": [
       "array(['F', 'M'], dtype=object)"
      ]
     },
     "execution_count": 23,
     "metadata": {},
     "output_type": "execute_result"
    }
   ],
   "source": [
    "df['Gender'].unique() "
   ]
  },
  {
   "cell_type": "code",
   "execution_count": 25,
   "id": "d6e9333d-4109-4382-8725-d61cbeee1f54",
   "metadata": {},
   "outputs": [
    {
     "data": {
      "text/plain": [
       "array(['0-17', '55+', '26-35', '46-50', '51-55', '36-45', '18-25'],\n",
       "      dtype=object)"
      ]
     },
     "execution_count": 25,
     "metadata": {},
     "output_type": "execute_result"
    }
   ],
   "source": [
    "df['Age'].unique() "
   ]
  },
  {
   "cell_type": "code",
   "execution_count": 27,
   "id": "b2d6b007-0a83-4798-8de8-9d51ac4946a6",
   "metadata": {},
   "outputs": [
    {
     "data": {
      "text/plain": [
       "21"
      ]
     },
     "execution_count": 27,
     "metadata": {},
     "output_type": "execute_result"
    }
   ],
   "source": [
    "df['Occupation'].nunique()"
   ]
  },
  {
   "cell_type": "code",
   "execution_count": 29,
   "id": "28dcad37-1b65-4511-b366-ae2c41218a1a",
   "metadata": {},
   "outputs": [
    {
     "data": {
      "text/plain": [
       "array([10, 16, 15,  7, 20,  9,  1, 12, 17,  0,  3,  4, 11,  8, 19,  2, 18,\n",
       "        5, 14, 13,  6], dtype=int64)"
      ]
     },
     "execution_count": 29,
     "metadata": {},
     "output_type": "execute_result"
    }
   ],
   "source": [
    "df['Occupation'].unique()"
   ]
  },
  {
   "cell_type": "code",
   "execution_count": 31,
   "id": "84cb08c6-1f0b-4522-93f4-5295c07aede5",
   "metadata": {},
   "outputs": [
    {
     "data": {
      "text/plain": [
       "3"
      ]
     },
     "execution_count": 31,
     "metadata": {},
     "output_type": "execute_result"
    }
   ],
   "source": [
    "df['City_Category'].nunique()"
   ]
  },
  {
   "cell_type": "code",
   "execution_count": 33,
   "id": "c57482ca-3d46-4fa8-be76-063bcd8972c4",
   "metadata": {},
   "outputs": [
    {
     "data": {
      "text/plain": [
       "array(['A', 'C', 'B'], dtype=object)"
      ]
     },
     "execution_count": 33,
     "metadata": {},
     "output_type": "execute_result"
    }
   ],
   "source": [
    "df['City_Category'].unique()"
   ]
  },
  {
   "cell_type": "code",
   "execution_count": 35,
   "id": "43c12291-36ac-4cce-ae8d-16b2f76aa4b8",
   "metadata": {},
   "outputs": [
    {
     "data": {
      "text/plain": [
       "5"
      ]
     },
     "execution_count": 35,
     "metadata": {},
     "output_type": "execute_result"
    }
   ],
   "source": [
    "df['Stay_In_Current_City_Years'].nunique()"
   ]
  },
  {
   "cell_type": "code",
   "execution_count": 37,
   "id": "8d6d3dfd-1905-40d2-af1c-76e1f331c772",
   "metadata": {},
   "outputs": [
    {
     "data": {
      "text/plain": [
       "array(['2', '4+', '3', '1', '0'], dtype=object)"
      ]
     },
     "execution_count": 37,
     "metadata": {},
     "output_type": "execute_result"
    }
   ],
   "source": [
    "df['Stay_In_Current_City_Years'].unique()"
   ]
  },
  {
   "cell_type": "code",
   "execution_count": 39,
   "id": "48dccc8f-b6cf-48f5-81fe-7fb9cdcc63a9",
   "metadata": {},
   "outputs": [
    {
     "data": {
      "text/plain": [
       "array([0, 1], dtype=int64)"
      ]
     },
     "execution_count": 39,
     "metadata": {},
     "output_type": "execute_result"
    }
   ],
   "source": [
    "df['Marital_Status'].unique()"
   ]
  },
  {
   "cell_type": "code",
   "execution_count": 41,
   "id": "ca971fcf-f437-4f28-97b7-ba4794a4de3d",
   "metadata": {},
   "outputs": [
    {
     "data": {
      "text/plain": [
       "array([ 3,  1, 12,  8,  5,  4,  2,  6, 14, 11, 13, 15,  7, 16, 18, 10, 17,\n",
       "        9], dtype=int64)"
      ]
     },
     "execution_count": 41,
     "metadata": {},
     "output_type": "execute_result"
    }
   ],
   "source": [
    "df['Product_Category_1'].unique()"
   ]
  },
  {
   "cell_type": "code",
   "execution_count": 43,
   "id": "a6fb4dc6-f4e7-4082-aa15-bae6eb36de92",
   "metadata": {},
   "outputs": [
    {
     "data": {
      "text/plain": [
       "18"
      ]
     },
     "execution_count": 43,
     "metadata": {},
     "output_type": "execute_result"
    }
   ],
   "source": [
    "df['Product_Category_1'].nunique()"
   ]
  },
  {
   "cell_type": "code",
   "execution_count": 45,
   "id": "dbd7bab6-1c62-49c9-bea5-26f448f5d802",
   "metadata": {},
   "outputs": [
    {
     "data": {
      "text/plain": [
       "9333.859852635065"
      ]
     },
     "execution_count": 45,
     "metadata": {},
     "output_type": "execute_result"
    }
   ],
   "source": [
    "df['Purchase'].mean()"
   ]
  },
  {
   "cell_type": "code",
   "execution_count": 47,
   "id": "f930b0ba-0584-488d-a870-fdd9a8eb9ad0",
   "metadata": {},
   "outputs": [
    {
     "name": "stdout",
     "output_type": "stream",
     "text": [
      "User_ID 5891\n",
      "Product_ID 3623\n",
      "Gender 2\n",
      "Age 7\n",
      "Occupation 21\n",
      "City_Category 3\n",
      "Stay_In_Current_City_Years 5\n",
      "Marital_Status 2\n",
      "Product_Category_1 18\n",
      "Purchase 17959\n"
     ]
    }
   ],
   "source": [
    "for column in df.columns:\n",
    "    print(column,df[column].nunique())"
   ]
  },
  {
   "cell_type": "markdown",
   "id": "e67f2b48-0a70-4a74-90bb-90065ae7d365",
   "metadata": {},
   "source": [
    "# Analyzing gender column"
   ]
  },
  {
   "cell_type": "code",
   "execution_count": 50,
   "id": "9defe4a7-9aa5-451b-b97a-20f7b64af3f9",
   "metadata": {},
   "outputs": [
    {
     "data": {
      "text/plain": [
       "0         F\n",
       "1         F\n",
       "2         F\n",
       "3         F\n",
       "4         M\n",
       "         ..\n",
       "537572    M\n",
       "537573    M\n",
       "537574    M\n",
       "537575    M\n",
       "537576    M\n",
       "Name: Gender, Length: 537577, dtype: object"
      ]
     },
     "execution_count": 50,
     "metadata": {},
     "output_type": "execute_result"
    }
   ],
   "source": [
    "df['Gender']"
   ]
  },
  {
   "cell_type": "code",
   "execution_count": 52,
   "id": "eb8a7910-ff26-4b61-9e9d-29a7027e4fcc",
   "metadata": {},
   "outputs": [
    {
     "data": {
      "text/html": [
       "<div>\n",
       "<style scoped>\n",
       "    .dataframe tbody tr th:only-of-type {\n",
       "        vertical-align: middle;\n",
       "    }\n",
       "\n",
       "    .dataframe tbody tr th {\n",
       "        vertical-align: top;\n",
       "    }\n",
       "\n",
       "    .dataframe thead th {\n",
       "        text-align: right;\n",
       "    }\n",
       "</style>\n",
       "<table border=\"1\" class=\"dataframe\">\n",
       "  <thead>\n",
       "    <tr style=\"text-align: right;\">\n",
       "      <th></th>\n",
       "      <th>User_ID</th>\n",
       "      <th>Product_ID</th>\n",
       "      <th>Gender</th>\n",
       "      <th>Age</th>\n",
       "      <th>Occupation</th>\n",
       "      <th>City_Category</th>\n",
       "      <th>Stay_In_Current_City_Years</th>\n",
       "      <th>Marital_Status</th>\n",
       "      <th>Product_Category_1</th>\n",
       "      <th>Purchase</th>\n",
       "    </tr>\n",
       "  </thead>\n",
       "  <tbody>\n",
       "    <tr>\n",
       "      <th>4</th>\n",
       "      <td>1000002</td>\n",
       "      <td>P00285442</td>\n",
       "      <td>M</td>\n",
       "      <td>55+</td>\n",
       "      <td>16</td>\n",
       "      <td>C</td>\n",
       "      <td>4+</td>\n",
       "      <td>0</td>\n",
       "      <td>8</td>\n",
       "      <td>7969</td>\n",
       "    </tr>\n",
       "    <tr>\n",
       "      <th>5</th>\n",
       "      <td>1000003</td>\n",
       "      <td>P00193542</td>\n",
       "      <td>M</td>\n",
       "      <td>26-35</td>\n",
       "      <td>15</td>\n",
       "      <td>A</td>\n",
       "      <td>3</td>\n",
       "      <td>0</td>\n",
       "      <td>1</td>\n",
       "      <td>15227</td>\n",
       "    </tr>\n",
       "    <tr>\n",
       "      <th>6</th>\n",
       "      <td>1000004</td>\n",
       "      <td>P00184942</td>\n",
       "      <td>M</td>\n",
       "      <td>46-50</td>\n",
       "      <td>7</td>\n",
       "      <td>B</td>\n",
       "      <td>2</td>\n",
       "      <td>1</td>\n",
       "      <td>1</td>\n",
       "      <td>19215</td>\n",
       "    </tr>\n",
       "    <tr>\n",
       "      <th>7</th>\n",
       "      <td>1000004</td>\n",
       "      <td>P00346142</td>\n",
       "      <td>M</td>\n",
       "      <td>46-50</td>\n",
       "      <td>7</td>\n",
       "      <td>B</td>\n",
       "      <td>2</td>\n",
       "      <td>1</td>\n",
       "      <td>1</td>\n",
       "      <td>15854</td>\n",
       "    </tr>\n",
       "    <tr>\n",
       "      <th>8</th>\n",
       "      <td>1000004</td>\n",
       "      <td>P0097242</td>\n",
       "      <td>M</td>\n",
       "      <td>46-50</td>\n",
       "      <td>7</td>\n",
       "      <td>B</td>\n",
       "      <td>2</td>\n",
       "      <td>1</td>\n",
       "      <td>1</td>\n",
       "      <td>15686</td>\n",
       "    </tr>\n",
       "    <tr>\n",
       "      <th>...</th>\n",
       "      <td>...</td>\n",
       "      <td>...</td>\n",
       "      <td>...</td>\n",
       "      <td>...</td>\n",
       "      <td>...</td>\n",
       "      <td>...</td>\n",
       "      <td>...</td>\n",
       "      <td>...</td>\n",
       "      <td>...</td>\n",
       "      <td>...</td>\n",
       "    </tr>\n",
       "    <tr>\n",
       "      <th>537572</th>\n",
       "      <td>1004737</td>\n",
       "      <td>P00193542</td>\n",
       "      <td>M</td>\n",
       "      <td>36-45</td>\n",
       "      <td>16</td>\n",
       "      <td>C</td>\n",
       "      <td>1</td>\n",
       "      <td>0</td>\n",
       "      <td>1</td>\n",
       "      <td>11664</td>\n",
       "    </tr>\n",
       "    <tr>\n",
       "      <th>537573</th>\n",
       "      <td>1004737</td>\n",
       "      <td>P00111142</td>\n",
       "      <td>M</td>\n",
       "      <td>36-45</td>\n",
       "      <td>16</td>\n",
       "      <td>C</td>\n",
       "      <td>1</td>\n",
       "      <td>0</td>\n",
       "      <td>1</td>\n",
       "      <td>19196</td>\n",
       "    </tr>\n",
       "    <tr>\n",
       "      <th>537574</th>\n",
       "      <td>1004737</td>\n",
       "      <td>P00345942</td>\n",
       "      <td>M</td>\n",
       "      <td>36-45</td>\n",
       "      <td>16</td>\n",
       "      <td>C</td>\n",
       "      <td>1</td>\n",
       "      <td>0</td>\n",
       "      <td>8</td>\n",
       "      <td>8043</td>\n",
       "    </tr>\n",
       "    <tr>\n",
       "      <th>537575</th>\n",
       "      <td>1004737</td>\n",
       "      <td>P00285842</td>\n",
       "      <td>M</td>\n",
       "      <td>36-45</td>\n",
       "      <td>16</td>\n",
       "      <td>C</td>\n",
       "      <td>1</td>\n",
       "      <td>0</td>\n",
       "      <td>5</td>\n",
       "      <td>7172</td>\n",
       "    </tr>\n",
       "    <tr>\n",
       "      <th>537576</th>\n",
       "      <td>1004737</td>\n",
       "      <td>P00118242</td>\n",
       "      <td>M</td>\n",
       "      <td>36-45</td>\n",
       "      <td>16</td>\n",
       "      <td>C</td>\n",
       "      <td>1</td>\n",
       "      <td>0</td>\n",
       "      <td>5</td>\n",
       "      <td>6875</td>\n",
       "    </tr>\n",
       "  </tbody>\n",
       "</table>\n",
       "<p>405380 rows × 10 columns</p>\n",
       "</div>"
      ],
      "text/plain": [
       "        User_ID Product_ID Gender    Age  Occupation City_Category  \\\n",
       "4       1000002  P00285442      M    55+          16             C   \n",
       "5       1000003  P00193542      M  26-35          15             A   \n",
       "6       1000004  P00184942      M  46-50           7             B   \n",
       "7       1000004  P00346142      M  46-50           7             B   \n",
       "8       1000004   P0097242      M  46-50           7             B   \n",
       "...         ...        ...    ...    ...         ...           ...   \n",
       "537572  1004737  P00193542      M  36-45          16             C   \n",
       "537573  1004737  P00111142      M  36-45          16             C   \n",
       "537574  1004737  P00345942      M  36-45          16             C   \n",
       "537575  1004737  P00285842      M  36-45          16             C   \n",
       "537576  1004737  P00118242      M  36-45          16             C   \n",
       "\n",
       "       Stay_In_Current_City_Years  Marital_Status  Product_Category_1  \\\n",
       "4                              4+               0                   8   \n",
       "5                               3               0                   1   \n",
       "6                               2               1                   1   \n",
       "7                               2               1                   1   \n",
       "8                               2               1                   1   \n",
       "...                           ...             ...                 ...   \n",
       "537572                          1               0                   1   \n",
       "537573                          1               0                   1   \n",
       "537574                          1               0                   8   \n",
       "537575                          1               0                   5   \n",
       "537576                          1               0                   5   \n",
       "\n",
       "        Purchase  \n",
       "4           7969  \n",
       "5          15227  \n",
       "6          19215  \n",
       "7          15854  \n",
       "8          15686  \n",
       "...          ...  \n",
       "537572     11664  \n",
       "537573     19196  \n",
       "537574      8043  \n",
       "537575      7172  \n",
       "537576      6875  \n",
       "\n",
       "[405380 rows x 10 columns]"
      ]
     },
     "execution_count": 52,
     "metadata": {},
     "output_type": "execute_result"
    }
   ],
   "source": [
    "df[df['Gender']=='M']"
   ]
  },
  {
   "cell_type": "code",
   "execution_count": 54,
   "id": "1ee7cb92-573c-423e-918a-cdf191d0ef93",
   "metadata": {},
   "outputs": [
    {
     "data": {
      "text/plain": [
       "405380"
      ]
     },
     "execution_count": 54,
     "metadata": {},
     "output_type": "execute_result"
    }
   ],
   "source": [
    "len(df[df['Gender']=='M'])"
   ]
  },
  {
   "cell_type": "code",
   "execution_count": 56,
   "id": "0bbc8fa1-e96f-4748-9c02-85d442ec4f1e",
   "metadata": {},
   "outputs": [
    {
     "data": {
      "text/plain": [
       "132197"
      ]
     },
     "execution_count": 56,
     "metadata": {},
     "output_type": "execute_result"
    }
   ],
   "source": [
    "len(df[df['Gender']=='F'])"
   ]
  },
  {
   "cell_type": "code",
   "execution_count": 58,
   "id": "347113b3-0582-4e61-9d12-65c97681876e",
   "metadata": {},
   "outputs": [],
   "source": [
    "data=pd.DataFrame({'Ratio':[len(df[df['Gender']=='M']),len(df[df['Gender']=='F'])]},index=['Male','Female'])"
   ]
  },
  {
   "cell_type": "code",
   "execution_count": 60,
   "id": "12d65e7e-652b-4272-9c81-75de2899be68",
   "metadata": {},
   "outputs": [
    {
     "data": {
      "text/html": [
       "<div>\n",
       "<style scoped>\n",
       "    .dataframe tbody tr th:only-of-type {\n",
       "        vertical-align: middle;\n",
       "    }\n",
       "\n",
       "    .dataframe tbody tr th {\n",
       "        vertical-align: top;\n",
       "    }\n",
       "\n",
       "    .dataframe thead th {\n",
       "        text-align: right;\n",
       "    }\n",
       "</style>\n",
       "<table border=\"1\" class=\"dataframe\">\n",
       "  <thead>\n",
       "    <tr style=\"text-align: right;\">\n",
       "      <th></th>\n",
       "      <th>Ratio</th>\n",
       "    </tr>\n",
       "  </thead>\n",
       "  <tbody>\n",
       "    <tr>\n",
       "      <th>Male</th>\n",
       "      <td>405380</td>\n",
       "    </tr>\n",
       "    <tr>\n",
       "      <th>Female</th>\n",
       "      <td>132197</td>\n",
       "    </tr>\n",
       "  </tbody>\n",
       "</table>\n",
       "</div>"
      ],
      "text/plain": [
       "         Ratio\n",
       "Male    405380\n",
       "Female  132197"
      ]
     },
     "execution_count": 60,
     "metadata": {},
     "output_type": "execute_result"
    }
   ],
   "source": [
    "data"
   ]
  },
  {
   "cell_type": "code",
   "execution_count": 62,
   "id": "dc502662-6fb0-4065-9622-620a74cd8dd8",
   "metadata": {},
   "outputs": [
    {
     "data": {
      "text/plain": [
       "<Axes: ylabel='Ratio'>"
      ]
     },
     "execution_count": 62,
     "metadata": {},
     "output_type": "execute_result"
    },
    {
     "data": {
      "image/png": "[encoded data removed]",
      "text/plain": [
       "<Figure size 640x480 with 1 Axes>"
      ]
     },
     "metadata": {},
     "output_type": "display_data"
    }
   ],
   "source": [
    "data.plot.pie(y='Ratio',autopct='%.2f')"
   ]
  },
  {
   "cell_type": "code",
   "execution_count": 63,
   "id": "56065fbf-3e8c-45d9-b033-531cff0caf37",
   "metadata": {},
   "outputs": [
    {
     "data": {
      "text/plain": [
       "<Axes: title={'center': 'Gender Ratio'}>"
      ]
     },
     "execution_count": 63,
     "metadata": {},
     "output_type": "execute_result"
    },
    {
     "data": {
      "image/png": "[encoded data removed]",
      "text/plain": [
       "<Figure size 640x480 with 1 Axes>"
      ]
     },
     "metadata": {},
     "output_type": "display_data"
    }
   ],
   "source": [
    "df.groupby('Gender').size().plot(kind='pie',autopct='%.2f',title='Gender Ratio')"
   ]
  },
  {
   "cell_type": "code",
   "execution_count": 64,
   "id": "8a5f0a96-2ef2-4d75-a640-121577805a9d",
   "metadata": {},
   "outputs": [
    {
     "data": {
      "text/plain": [
       "<Axes: title={'center': 'Gender Ratio'}, xlabel='Gender'>"
      ]
     },
     "execution_count": 64,
     "metadata": {},
     "output_type": "execute_result"
    },
    {
     "data": {
      "image/png": "[encoded data removed]",
      "text/plain": [
       "<Figure size 640x480 with 1 Axes>"
      ]
     },
     "metadata": {},
     "output_type": "display_data"
    }
   ],
   "source": [
    "df.groupby('Gender').size().plot(kind='bar',title='Gender Ratio')"
   ]
  },
  {
   "cell_type": "code",
   "execution_count": 65,
   "id": "a52f19c1-8d53-4dae-9be3-d18786ee9d60",
   "metadata": {},
   "outputs": [
    {
     "data": {
      "text/plain": [
       "<Axes: ylabel='Purchase'>"
      ]
     },
     "execution_count": 65,
     "metadata": {},
     "output_type": "execute_result"
    },
    {
     "data": {
      "image/png": "[encoded data removed]",
      "text/plain": [
       "<Figure size 640x480 with 1 Axes>"
      ]
     },
     "metadata": {},
     "output_type": "display_data"
    }
   ],
   "source": [
    "df.groupby('Gender')['Purchase'].sum().plot(kind='pie',autopct='%.2f')"
   ]
  },
  {
   "cell_type": "code",
   "execution_count": 66,
   "id": "c308fc8d-48f4-4c0a-81a0-cfbecb61a5d1",
   "metadata": {},
   "outputs": [
    {
     "data": {
      "text/plain": [
       "<Axes: ylabel='Purchase'>"
      ]
     },
     "execution_count": 66,
     "metadata": {},
     "output_type": "execute_result"
    },
    {
     "data": {
      "image/png": "[encoded data removed]",
      "text/plain": [
       "<Figure size 640x480 with 1 Axes>"
      ]
     },
     "metadata": {},
     "output_type": "display_data"
    }
   ],
   "source": [
    "df.groupby('Gender')['Purchase'].mean().plot(kind='pie',autopct='%.2f')"
   ]
  },
  {
   "cell_type": "markdown",
   "id": "9501a295-de70-4ea0-b875-4190119b4e54",
   "metadata": {},
   "source": [
    "# Analyzing age and marital status"
   ]
  },
  {
   "cell_type": "code",
   "execution_count": 71,
   "id": "87ecc6b9-b718-4056-b8f5-f4b00b32bd87",
   "metadata": {},
   "outputs": [
    {
     "data": {
      "text/plain": [
       "<Axes: xlabel='Age'>"
      ]
     },
     "execution_count": 71,
     "metadata": {},
     "output_type": "execute_result"
    },
    {
     "data": {
      "image/png": "[encoded data removed]",
      "text/plain": [
       "<Figure size 640x480 with 1 Axes>"
      ]
     },
     "metadata": {},
     "output_type": "display_data"
    }
   ],
   "source": [
    "df.groupby('Age').size().plot(kind='bar')"
   ]
  },
  {
   "cell_type": "code",
   "execution_count": 73,
   "id": "c79cc7af-da1c-4613-bce4-4fadfcb45f20",
   "metadata": {},
   "outputs": [
    {
     "data": {
      "text/plain": [
       "[('0-17', 2300),\n",
       " ('55+', 2573),\n",
       " ('26-35', 3419),\n",
       " ('46-50', 3099),\n",
       " ('51-55', 2877),\n",
       " ('36-45', 3318),\n",
       " ('18-25', 3213)]"
      ]
     },
     "execution_count": 73,
     "metadata": {},
     "output_type": "execute_result"
    }
   ],
   "source": [
    "lst=[]\n",
    "for i in df['Age'].unique():\n",
    "    lst.append((i,df[df['Age']==i]['Product_ID'].nunique()))\n",
    "lst"
   ]
  },
  {
   "cell_type": "code",
   "execution_count": 97,
   "id": "f5e1bf37-54ff-4b37-ba29-e2c58a9492ad",
   "metadata": {},
   "outputs": [
    {
     "data": {
      "text/plain": [
       "array(['P00366542', 'P00190742', 'P00151842', ..., 'P00195142',\n",
       "       'P00091742', 'P00091042'], dtype=object)"
      ]
     },
     "execution_count": 97,
     "metadata": {},
     "output_type": "execute_result"
    }
   ],
   "source": [
    "df[df['Age']==i]['Product_ID'].unique()"
   ]
  },
  {
   "cell_type": "code",
   "execution_count": 75,
   "id": "7382d4ba-598d-49a3-8c93-06ca551c8748",
   "metadata": {},
   "outputs": [],
   "source": [
    "data=pd.DataFrame(lst,columns=['Age','Products'])"
   ]
  },
  {
   "cell_type": "code",
   "execution_count": 77,
   "id": "c51ac40e-0fab-4350-b605-3280bd2d88cc",
   "metadata": {},
   "outputs": [
    {
     "data": {
      "text/html": [
       "<div>\n",
       "<style scoped>\n",
       "    .dataframe tbody tr th:only-of-type {\n",
       "        vertical-align: middle;\n",
       "    }\n",
       "\n",
       "    .dataframe tbody tr th {\n",
       "        vertical-align: top;\n",
       "    }\n",
       "\n",
       "    .dataframe thead th {\n",
       "        text-align: right;\n",
       "    }\n",
       "</style>\n",
       "<table border=\"1\" class=\"dataframe\">\n",
       "  <thead>\n",
       "    <tr style=\"text-align: right;\">\n",
       "      <th></th>\n",
       "      <th>Age</th>\n",
       "      <th>Products</th>\n",
       "    </tr>\n",
       "  </thead>\n",
       "  <tbody>\n",
       "    <tr>\n",
       "      <th>0</th>\n",
       "      <td>0-17</td>\n",
       "      <td>2300</td>\n",
       "    </tr>\n",
       "    <tr>\n",
       "      <th>1</th>\n",
       "      <td>55+</td>\n",
       "      <td>2573</td>\n",
       "    </tr>\n",
       "    <tr>\n",
       "      <th>2</th>\n",
       "      <td>26-35</td>\n",
       "      <td>3419</td>\n",
       "    </tr>\n",
       "    <tr>\n",
       "      <th>3</th>\n",
       "      <td>46-50</td>\n",
       "      <td>3099</td>\n",
       "    </tr>\n",
       "    <tr>\n",
       "      <th>4</th>\n",
       "      <td>51-55</td>\n",
       "      <td>2877</td>\n",
       "    </tr>\n",
       "    <tr>\n",
       "      <th>5</th>\n",
       "      <td>36-45</td>\n",
       "      <td>3318</td>\n",
       "    </tr>\n",
       "    <tr>\n",
       "      <th>6</th>\n",
       "      <td>18-25</td>\n",
       "      <td>3213</td>\n",
       "    </tr>\n",
       "  </tbody>\n",
       "</table>\n",
       "</div>"
      ],
      "text/plain": [
       "     Age  Products\n",
       "0   0-17      2300\n",
       "1    55+      2573\n",
       "2  26-35      3419\n",
       "3  46-50      3099\n",
       "4  51-55      2877\n",
       "5  36-45      3318\n",
       "6  18-25      3213"
      ]
     },
     "execution_count": 77,
     "metadata": {},
     "output_type": "execute_result"
    }
   ],
   "source": [
    "data"
   ]
  },
  {
   "cell_type": "code",
   "execution_count": 78,
   "id": "77481d8d-4577-4ece-8acf-45d822bff51e",
   "metadata": {},
   "outputs": [
    {
     "data": {
      "text/plain": [
       "<Axes: xlabel='Age'>"
      ]
     },
     "execution_count": 78,
     "metadata": {},
     "output_type": "execute_result"
    },
    {
     "data": {
      "image/png": "[encoded data removed]",
      "text/plain": [
       "<Figure size 640x480 with 1 Axes>"
      ]
     },
     "metadata": {},
     "output_type": "display_data"
    }
   ],
   "source": [
    "data.plot.bar(x='Age')"
   ]
  },
  {
   "cell_type": "code",
   "execution_count": 83,
   "id": "fdd889dc-1e3c-4d2c-97a6-06e100ef6e3b",
   "metadata": {},
   "outputs": [
    {
     "data": {
      "text/plain": [
       "<Axes: title={'center': 'amount spend by age'}, xlabel='Age'>"
      ]
     },
     "execution_count": 83,
     "metadata": {},
     "output_type": "execute_result"
    },
    {
     "data": {
      "image/png": "[encoded data removed]",
      "text/plain": [
       "<Figure size 640x480 with 1 Axes>"
      ]
     },
     "metadata": {},
     "output_type": "display_data"
    }
   ],
   "source": [
    "df.groupby('Age')['Purchase'].sum().plot(kind='bar',title='amount spend by age')"
   ]
  },
  {
   "cell_type": "code",
   "execution_count": 85,
   "id": "dd70b010-f0da-4882-8862-744ba2c56fb3",
   "metadata": {},
   "outputs": [
    {
     "data": {
      "text/plain": [
       "<Axes: title={'center': 'amount spend by age'}, xlabel='Age'>"
      ]
     },
     "execution_count": 85,
     "metadata": {},
     "output_type": "execute_result"
    },
    {
     "data": {
      "image/png": "[encoded data removed]",
      "text/plain": [
       "<Figure size 640x480 with 1 Axes>"
      ]
     },
     "metadata": {},
     "output_type": "display_data"
    }
   ],
   "source": [
    "df.groupby('Age')['Purchase'].mean().plot(kind='bar',title='amount spend by age')"
   ]
  },
  {
   "cell_type": "code",
   "execution_count": 87,
   "id": "d1c661df-c7f0-410d-935e-0ed307c993c6",
   "metadata": {},
   "outputs": [
    {
     "data": {
      "text/plain": [
       "Age\n",
       "0-17     9020.126878\n",
       "18-25    9235.197575\n",
       "26-35    9314.588970\n",
       "36-45    9401.478758\n",
       "46-50    9284.872277\n",
       "51-55    9620.616620\n",
       "55+      9453.898579\n",
       "Name: Purchase, dtype: float64"
      ]
     },
     "execution_count": 87,
     "metadata": {},
     "output_type": "execute_result"
    }
   ],
   "source": [
    "df.groupby('Age')['Purchase'].mean()"
   ]
  },
  {
   "cell_type": "code",
   "execution_count": 89,
   "id": "95ad3858-4a34-497a-85f7-3a302351099c",
   "metadata": {},
   "outputs": [
    {
     "data": {
      "text/plain": [
       "<Axes: title={'center': 'amount spend by age'}, ylabel='Purchase'>"
      ]
     },
     "execution_count": 89,
     "metadata": {},
     "output_type": "execute_result"
    },
    {
     "data": {
      "image/png": "[encoded data removed]",
      "text/plain": [
       "<Figure size 640x480 with 1 Axes>"
      ]
     },
     "metadata": {},
     "output_type": "display_data"
    }
   ],
   "source": [
    "df.groupby('Age')['Purchase'].mean().plot(kind='pie',autopct='%.2f',title='amount spend by age')"
   ]
  },
  {
   "cell_type": "code",
   "execution_count": 10,
   "id": "6e578efe-5ee6-4553-92cf-5150fa382690",
   "metadata": {},
   "outputs": [
    {
     "data": {
      "text/plain": [
       "<Axes: title={'center': 'Marital status'}>"
      ]
     },
     "execution_count": 10,
     "metadata": {},
     "output_type": "execute_result"
    },
    {
     "data": {
      "image/png": "[encoded data removed]",
      "text/plain": [
       "<Figure size 640x480 with 1 Axes>"
      ]
     },
     "metadata": {},
     "output_type": "display_data"
    }
   ],
   "source": [
    "df.groupby('Marital_Status').size().plot(kind='pie',autopct='%.2f',title='Marital status')"
   ]
  },
  {
   "cell_type": "code",
   "execution_count": 7,
   "id": "a907dbe1-345c-4ffd-8c2d-c900c857ba4c",
   "metadata": {},
   "outputs": [
    {
     "data": {
      "text/html": [
       "<div>\n",
       "<style scoped>\n",
       "    .dataframe tbody tr th:only-of-type {\n",
       "        vertical-align: middle;\n",
       "    }\n",
       "\n",
       "    .dataframe tbody tr th {\n",
       "        vertical-align: top;\n",
       "    }\n",
       "\n",
       "    .dataframe thead th {\n",
       "        text-align: right;\n",
       "    }\n",
       "</style>\n",
       "<table border=\"1\" class=\"dataframe\">\n",
       "  <thead>\n",
       "    <tr style=\"text-align: right;\">\n",
       "      <th></th>\n",
       "      <th>User_ID</th>\n",
       "      <th>Product_ID</th>\n",
       "      <th>Gender</th>\n",
       "      <th>Age</th>\n",
       "      <th>Occupation</th>\n",
       "      <th>City_Category</th>\n",
       "      <th>Stay_In_Current_City_Years</th>\n",
       "      <th>Marital_Status</th>\n",
       "      <th>Product_Category_1</th>\n",
       "      <th>Purchase</th>\n",
       "    </tr>\n",
       "  </thead>\n",
       "  <tbody>\n",
       "    <tr>\n",
       "      <th>0</th>\n",
       "      <td>1000001</td>\n",
       "      <td>P00069042</td>\n",
       "      <td>F</td>\n",
       "      <td>0-17</td>\n",
       "      <td>10</td>\n",
       "      <td>A</td>\n",
       "      <td>2</td>\n",
       "      <td>0</td>\n",
       "      <td>3</td>\n",
       "      <td>8370</td>\n",
       "    </tr>\n",
       "    <tr>\n",
       "      <th>1</th>\n",
       "      <td>1000001</td>\n",
       "      <td>P00248942</td>\n",
       "      <td>F</td>\n",
       "      <td>0-17</td>\n",
       "      <td>10</td>\n",
       "      <td>A</td>\n",
       "      <td>2</td>\n",
       "      <td>0</td>\n",
       "      <td>1</td>\n",
       "      <td>15200</td>\n",
       "    </tr>\n",
       "    <tr>\n",
       "      <th>2</th>\n",
       "      <td>1000001</td>\n",
       "      <td>P00087842</td>\n",
       "      <td>F</td>\n",
       "      <td>0-17</td>\n",
       "      <td>10</td>\n",
       "      <td>A</td>\n",
       "      <td>2</td>\n",
       "      <td>0</td>\n",
       "      <td>12</td>\n",
       "      <td>1422</td>\n",
       "    </tr>\n",
       "    <tr>\n",
       "      <th>3</th>\n",
       "      <td>1000001</td>\n",
       "      <td>P00085442</td>\n",
       "      <td>F</td>\n",
       "      <td>0-17</td>\n",
       "      <td>10</td>\n",
       "      <td>A</td>\n",
       "      <td>2</td>\n",
       "      <td>0</td>\n",
       "      <td>12</td>\n",
       "      <td>1057</td>\n",
       "    </tr>\n",
       "    <tr>\n",
       "      <th>4</th>\n",
       "      <td>1000002</td>\n",
       "      <td>P00285442</td>\n",
       "      <td>M</td>\n",
       "      <td>55+</td>\n",
       "      <td>16</td>\n",
       "      <td>C</td>\n",
       "      <td>4+</td>\n",
       "      <td>0</td>\n",
       "      <td>8</td>\n",
       "      <td>7969</td>\n",
       "    </tr>\n",
       "  </tbody>\n",
       "</table>\n",
       "</div>"
      ],
      "text/plain": [
       "   User_ID Product_ID Gender   Age  Occupation City_Category  \\\n",
       "0  1000001  P00069042      F  0-17          10             A   \n",
       "1  1000001  P00248942      F  0-17          10             A   \n",
       "2  1000001  P00087842      F  0-17          10             A   \n",
       "3  1000001  P00085442      F  0-17          10             A   \n",
       "4  1000002  P00285442      M   55+          16             C   \n",
       "\n",
       "  Stay_In_Current_City_Years  Marital_Status  Product_Category_1  Purchase  \n",
       "0                          2               0                   3      8370  \n",
       "1                          2               0                   1     15200  \n",
       "2                          2               0                  12      1422  \n",
       "3                          2               0                  12      1057  \n",
       "4                         4+               0                   8      7969  "
      ]
     },
     "execution_count": 7,
     "metadata": {},
     "output_type": "execute_result"
    }
   ],
   "source": [
    "df.head()"
   ]
  },
  {
   "cell_type": "code",
   "execution_count": 9,
   "id": "a3abfa40-5f32-470c-b700-44d5f6bc0991",
   "metadata": {},
   "outputs": [
    {
     "data": {
      "text/plain": [
       "<Axes: xlabel='Age', ylabel='count'>"
      ]
     },
     "execution_count": 9,
     "metadata": {},
     "output_type": "execute_result"
    },
    {
     "data": {
      "image/png": "[encoded data removed]",
      "text/plain": [
       "<Figure size 640x480 with 1 Axes>"
      ]
     },
     "metadata": {},
     "output_type": "display_data"
    }
   ],
   "source": [
    "sns.countplot(data=df,x='Age',hue='Gender')"
   ]
  },
  {
   "cell_type": "code",
   "execution_count": 11,
   "id": "c27375b0-1d19-4a53-bd79-19d74af34f28",
   "metadata": {},
   "outputs": [
    {
     "data": {
      "text/plain": [
       "<Axes: xlabel='Gender', ylabel='count'>"
      ]
     },
     "execution_count": 11,
     "metadata": {},
     "output_type": "execute_result"
    },
    {
     "data": {
      "image/png": "[encoded data removed]",
      "text/plain": [
       "<Figure size 640x480 with 1 Axes>"
      ]
     },
     "metadata": {},
     "output_type": "display_data"
    }
   ],
   "source": [
    "sns.countplot(data=df,x='Gender',hue='Age')"
   ]
  },
  {
   "cell_type": "code",
   "execution_count": 13,
   "id": "3189e960-8048-475a-af44-b851557b8746",
   "metadata": {},
   "outputs": [
    {
     "data": {
      "text/plain": [
       "<Axes: xlabel='Gender', ylabel='count'>"
      ]
     },
     "execution_count": 13,
     "metadata": {},
     "output_type": "execute_result"
    },
    {
     "data": {
      "image/png": "[encoded data removed]",
      "text/plain": [
       "<Figure size 640x480 with 1 Axes>"
      ]
     },
     "metadata": {},
     "output_type": "display_data"
    }
   ],
   "source": [
    "sns.countplot(data=df,x='Gender',hue='Marital_Status')"
   ]
  },
  {
   "cell_type": "code",
   "execution_count": 15,
   "id": "24c87b2b-d68f-4bbc-bfc8-0519898e74c2",
   "metadata": {},
   "outputs": [
    {
     "data": {
      "text/plain": [
       "<Axes: xlabel='Marital_Status', ylabel='count'>"
      ]
     },
     "execution_count": 15,
     "metadata": {},
     "output_type": "execute_result"
    },
    {
     "data": {
      "image/png": "[encoded data removed]",
      "text/plain": [
       "<Figure size 640x480 with 1 Axes>"
      ]
     },
     "metadata": {},
     "output_type": "display_data"
    }
   ],
   "source": [
    "sns.countplot(data=df,hue='Gender',x='Marital_Status')"
   ]
  },
  {
   "cell_type": "code",
   "execution_count": 17,
   "id": "f673e7d7-4791-4166-9ceb-3905f080b481",
   "metadata": {},
   "outputs": [
    {
     "data": {
      "text/plain": [
       "<Axes: xlabel='City_Category', ylabel='count'>"
      ]
     },
     "execution_count": 17,
     "metadata": {},
     "output_type": "execute_result"
    },
    {
     "data": {
      "image/png": "[encoded data removed]",
      "text/plain": [
       "<Figure size 640x480 with 1 Axes>"
      ]
     },
     "metadata": {},
     "output_type": "display_data"
    }
   ],
   "source": [
    "sns.countplot(x=df['City_Category'])"
   ]
  },
  {
   "cell_type": "code",
   "execution_count": 19,
   "id": "c10d6757-33df-4e09-9dc1-50501f3c69b1",
   "metadata": {},
   "outputs": [
    {
     "data": {
      "text/plain": [
       "<Axes: >"
      ]
     },
     "execution_count": 19,
     "metadata": {},
     "output_type": "execute_result"
    },
    {
     "data": {
      "image/png": "[encoded data removed]",
      "text/plain": [
       "<Figure size 640x480 with 1 Axes>"
      ]
     },
     "metadata": {},
     "output_type": "display_data"
    }
   ],
   "source": [
    "df.groupby('City_Category').size().plot(kind='pie',autopct='%.2f')"
   ]
  },
  {
   "cell_type": "code",
   "execution_count": 21,
   "id": "b41a9ffc-5055-482a-94f0-a86d2e447d4c",
   "metadata": {},
   "outputs": [
    {
     "data": {
      "text/plain": [
       "<Axes: xlabel='City_Category', ylabel='count'>"
      ]
     },
     "execution_count": 21,
     "metadata": {},
     "output_type": "execute_result"
    },
    {
     "data": {
      "image/png": "[encoded data removed]",
      "text/plain": [
       "<Figure size 640x480 with 1 Axes>"
      ]
     },
     "metadata": {},
     "output_type": "display_data"
    }
   ],
   "source": [
    "sns.countplot(data=df,hue='Age',x='City_Category')"
   ]
  },
  {
   "cell_type": "code",
   "execution_count": 23,
   "id": "bd06b6bd-e7e4-4f54-9e54-98d294ceb5d8",
   "metadata": {},
   "outputs": [
    {
     "data": {
      "text/plain": [
       "<Axes: xlabel='Age', ylabel='count'>"
      ]
     },
     "execution_count": 23,
     "metadata": {},
     "output_type": "execute_result"
    },
    {
     "data": {
      "image/png": "[encoded data removed]",
      "text/plain": [
       "<Figure size 640x480 with 1 Axes>"
      ]
     },
     "metadata": {},
     "output_type": "display_data"
    }
   ],
   "source": [
    "sns.countplot(data=df,x='Age',hue='City_Category')"
   ]
  },
  {
   "cell_type": "code",
   "execution_count": 45,
   "id": "b6601d40-2ee3-4757-9e0a-eeb04d1a55df",
   "metadata": {},
   "outputs": [],
   "source": [
    "lst=[]\n",
    "for i in range(len(df)):\n",
    "    lst.append((df['Gender'][i]+'_'+str(df['Marital_Status'][i])))"
   ]
  },
  {
   "cell_type": "code",
   "execution_count": 47,
   "id": "1c32aaf9-3ed7-4a62-9812-9ca609a71f77",
   "metadata": {},
   "outputs": [
    {
     "data": {
      "text/plain": [
       "['F_0',\n",
       " 'F_0',\n",
       " 'F_0',\n",
       " 'F_0',\n",
       " 'M_0',\n",
       " 'M_0',\n",
       " 'M_1',\n",
       " 'M_1',\n",
       " 'M_1',\n",
       " 'M_1',\n",
       " 'M_1',\n",
       " 'M_1',\n",
       " 'M_1',\n",
       " 'M_1',\n",
       " 'F_0',\n",
       " 'F_0',\n",
       " 'F_0',\n",
       " 'F_0',\n",
       " 'M_1',\n",
       " 'M_1',\n",
       " 'M_1',\n",
       " 'M_1',\n",
       " 'M_1',\n",
       " 'M_1',\n",
       " 'M_1',\n",
       " 'M_0',\n",
       " 'M_0',\n",
       " 'M_0',\n",
       " 'M_0',\n",
       " 'F_1',\n",
       " 'F_1',\n",
       " 'F_1',\n",
       " 'F_1',\n",
       " 'F_1',\n",
       " 'F_1',\n",
       " 'F_1',\n",
       " 'F_1',\n",
       " 'F_1',\n",
       " 'F_1',\n",
       " 'F_1',\n",
       " 'F_1',\n",
       " 'F_1',\n",
       " 'F_1',\n",
       " 'F_1',\n",
       " 'F_1',\n",
       " 'F_1',\n",
       " 'F_1',\n",
       " 'F_0',\n",
       " 'F_0',\n",
       " 'F_0',\n",
       " 'M_0',\n",
       " 'M_0',\n",
       " 'M_1',\n",
       " 'M_1',\n",
       " 'M_1',\n",
       " 'M_0',\n",
       " 'M_0',\n",
       " 'M_0',\n",
       " 'M_0',\n",
       " 'M_0',\n",
       " 'M_0',\n",
       " 'M_0',\n",
       " 'M_0',\n",
       " 'M_0',\n",
       " 'M_0',\n",
       " 'F_1',\n",
       " 'F_1',\n",
       " 'M_0',\n",
       " 'M_0',\n",
       " 'M_0',\n",
       " 'F_0',\n",
       " 'F_0',\n",
       " 'F_0',\n",
       " 'F_0',\n",
       " 'F_0',\n",
       " 'F_0',\n",
       " 'F_0',\n",
       " 'F_0',\n",
       " 'F_0',\n",
       " 'F_0',\n",
       " 'F_0',\n",
       " 'F_0',\n",
       " 'F_0',\n",
       " 'F_0',\n",
       " 'F_0',\n",
       " 'M_0',\n",
       " 'M_0',\n",
       " 'M_0',\n",
       " 'M_0',\n",
       " 'M_0',\n",
       " 'M_0',\n",
       " 'M_0',\n",
       " 'M_0',\n",
       " 'M_0',\n",
       " 'M_0',\n",
       " 'M_0',\n",
       " 'M_0',\n",
       " 'M_0',\n",
       " 'M_0',\n",
       " 'M_0',\n",
       " 'M_0',\n",
       " 'M_0',\n",
       " 'M_0',\n",
       " 'M_0',\n",
       " 'M_0',\n",
       " 'M_0',\n",
       " 'M_0',\n",
       " 'M_0',\n",
       " 'M_0',\n",
       " 'M_0',\n",
       " 'M_0',\n",
       " 'M_0',\n",
       " 'M_1',\n",
       " 'M_1',\n",
       " 'M_1',\n",
       " 'M_1',\n",
       " 'M_1',\n",
       " 'M_1',\n",
       " 'M_1',\n",
       " 'M_1',\n",
       " 'M_1',\n",
       " 'M_1',\n",
       " 'M_1',\n",
       " 'M_1',\n",
       " 'F_1',\n",
       " 'F_1',\n",
       " 'F_1',\n",
       " 'M_0',\n",
       " 'M_0',\n",
       " 'M_0',\n",
       " 'M_1',\n",
       " 'M_1',\n",
       " 'M_1',\n",
       " 'M_1',\n",
       " 'M_1',\n",
       " 'M_1',\n",
       " 'M_1',\n",
       " 'M_1',\n",
       " 'M_1',\n",
       " 'M_1',\n",
       " 'M_1',\n",
       " 'M_1',\n",
       " 'M_1',\n",
       " 'M_1',\n",
       " 'M_1',\n",
       " 'M_1',\n",
       " 'M_1',\n",
       " 'F_1',\n",
       " 'F_1',\n",
       " 'F_1',\n",
       " 'F_1',\n",
       " 'F_1',\n",
       " 'M_0',\n",
       " 'M_0',\n",
       " 'M_0',\n",
       " 'M_0',\n",
       " 'F_0',\n",
       " 'F_0',\n",
       " 'F_0',\n",
       " 'M_0',\n",
       " 'M_0',\n",
       " 'M_0',\n",
       " 'M_0',\n",
       " 'F_1',\n",
       " 'M_1',\n",
       " 'M_1',\n",
       " 'M_1',\n",
       " 'M_1',\n",
       " 'M_1',\n",
       " 'M_1',\n",
       " 'M_1',\n",
       " 'M_1',\n",
       " 'M_1',\n",
       " 'M_1',\n",
       " 'M_1',\n",
       " 'M_1',\n",
       " 'M_1',\n",
       " 'M_1',\n",
       " 'M_1',\n",
       " 'F_0',\n",
       " 'F_0',\n",
       " 'F_0',\n",
       " 'F_0',\n",
       " 'F_0',\n",
       " 'F_0',\n",
       " 'F_0',\n",
       " 'F_0',\n",
       " 'F_0',\n",
       " 'F_0',\n",
       " 'M_1',\n",
       " 'M_1',\n",
       " 'M_1',\n",
       " 'M_1',\n",
       " 'M_1',\n",
       " 'M_1',\n",
       " 'M_1',\n",
       " 'M_0',\n",
       " 'M_0',\n",
       " 'M_0',\n",
       " 'M_0',\n",
       " 'M_0',\n",
       " 'M_0',\n",
       " 'M_0',\n",
       " 'M_0',\n",
       " 'M_0',\n",
       " 'M_0',\n",
       " 'M_0',\n",
       " 'M_0',\n",
       " 'M_0',\n",
       " 'M_0',\n",
       " 'M_0',\n",
       " 'M_0',\n",
       " 'M_0',\n",
       " 'M_0',\n",
       " 'M_0',\n",
       " 'M_0',\n",
       " 'M_0',\n",
       " 'M_0',\n",
       " 'M_0',\n",
       " 'F_0',\n",
       " 'M_0',\n",
       " 'M_0',\n",
       " 'F_0',\n",
       " 'F_0',\n",
       " 'M_1',\n",
       " 'M_1',\n",
       " 'M_1',\n",
       " 'M_1',\n",
       " 'M_1',\n",
       " 'M_1',\n",
       " 'M_1',\n",
       " 'M_1',\n",
       " 'M_1',\n",
       " 'M_1',\n",
       " 'M_0',\n",
       " 'M_1',\n",
       " 'M_1',\n",
       " 'M_1',\n",
       " 'M_1',\n",
       " 'M_1',\n",
       " 'M_1',\n",
       " 'M_1',\n",
       " 'M_1',\n",
       " 'M_1',\n",
       " 'M_1',\n",
       " 'M_1',\n",
       " 'M_1',\n",
       " 'M_1',\n",
       " 'F_1',\n",
       " 'F_1',\n",
       " 'F_1',\n",
       " 'F_1',\n",
       " 'F_1',\n",
       " 'F_1',\n",
       " 'F_1',\n",
       " 'F_1',\n",
       " 'F_1',\n",
       " 'F_1',\n",
       " 'M_0',\n",
       " 'M_0',\n",
       " 'M_0',\n",
       " 'M_0',\n",
       " 'M_1',\n",
       " 'M_1',\n",
       " 'M_1',\n",
       " 'M_1',\n",
       " 'M_1',\n",
       " 'M_1',\n",
       " 'M_1',\n",
       " 'M_1',\n",
       " 'M_1',\n",
       " 'M_1',\n",
       " 'M_1',\n",
       " 'M_1',\n",
       " 'M_1',\n",
       " 'M_1',\n",
       " 'M_1',\n",
       " 'M_1',\n",
       " 'M_1',\n",
       " 'M_1',\n",
       " 'M_1',\n",
       " 'M_1',\n",
       " 'M_1',\n",
       " 'M_1',\n",
       " 'M_1',\n",
       " 'M_1',\n",
       " 'M_1',\n",
       " 'M_1',\n",
       " 'M_1',\n",
       " 'M_1',\n",
       " 'M_1',\n",
       " 'M_1',\n",
       " 'M_1',\n",
       " 'M_1',\n",
       " 'M_1',\n",
       " 'M_1',\n",
       " 'M_1',\n",
       " 'F_1',\n",
       " 'F_1',\n",
       " 'F_0',\n",
       " 'M_0',\n",
       " 'M_0',\n",
       " 'M_0',\n",
       " 'M_0',\n",
       " 'M_0',\n",
       " 'M_0',\n",
       " 'M_0',\n",
       " 'M_0',\n",
       " 'M_0',\n",
       " 'M_0',\n",
       " 'M_0',\n",
       " 'M_0',\n",
       " 'M_0',\n",
       " 'M_0',\n",
       " 'M_0',\n",
       " 'M_0',\n",
       " 'M_0',\n",
       " 'M_0',\n",
       " 'M_0',\n",
       " 'M_0',\n",
       " 'M_0',\n",
       " 'M_0',\n",
       " 'M_0',\n",
       " 'M_0',\n",
       " 'M_0',\n",
       " 'M_0',\n",
       " 'M_0',\n",
       " 'M_0',\n",
       " 'M_0',\n",
       " 'M_0',\n",
       " 'M_0',\n",
       " 'M_0',\n",
       " 'M_0',\n",
       " 'M_1',\n",
       " 'M_1',\n",
       " 'M_1',\n",
       " 'M_1',\n",
       " 'M_1',\n",
       " 'M_1',\n",
       " 'M_0',\n",
       " 'M_0',\n",
       " 'M_0',\n",
       " 'M_0',\n",
       " 'M_0',\n",
       " 'M_0',\n",
       " 'M_0',\n",
       " 'M_0',\n",
       " 'M_0',\n",
       " 'M_0',\n",
       " 'M_0',\n",
       " 'M_0',\n",
       " 'M_0',\n",
       " 'M_0',\n",
       " 'M_0',\n",
       " 'M_0',\n",
       " 'F_1',\n",
       " 'F_1',\n",
       " 'F_1',\n",
       " 'F_1',\n",
       " 'F_1',\n",
       " 'F_1',\n",
       " 'F_1',\n",
       " 'F_1',\n",
       " 'F_1',\n",
       " 'F_1',\n",
       " 'F_1',\n",
       " 'F_1',\n",
       " 'F_1',\n",
       " 'F_1',\n",
       " 'F_1',\n",
       " 'M_1',\n",
       " 'M_1',\n",
       " 'M_0',\n",
       " 'F_0',\n",
       " 'F_0',\n",
       " 'F_0',\n",
       " 'F_0',\n",
       " 'F_0',\n",
       " 'F_0',\n",
       " 'F_0',\n",
       " 'F_0',\n",
       " 'F_0',\n",
       " 'F_0',\n",
       " 'F_0',\n",
       " 'F_0',\n",
       " 'F_0',\n",
       " 'F_0',\n",
       " 'F_0',\n",
       " 'M_0',\n",
       " 'M_0',\n",
       " 'M_0',\n",
       " 'M_0',\n",
       " 'M_1',\n",
       " 'M_1',\n",
       " 'M_1',\n",
       " 'M_1',\n",
       " 'M_1',\n",
       " 'M_1',\n",
       " 'M_1',\n",
       " 'M_0',\n",
       " 'F_1',\n",
       " 'F_1',\n",
       " 'F_1',\n",
       " 'M_0',\n",
       " 'M_0',\n",
       " 'M_0',\n",
       " 'F_0',\n",
       " 'F_0',\n",
       " 'M_0',\n",
       " 'M_0',\n",
       " 'M_1',\n",
       " 'M_1',\n",
       " 'M_1',\n",
       " 'M_1',\n",
       " 'F_1',\n",
       " 'F_1',\n",
       " 'M_0',\n",
       " 'M_0',\n",
       " 'M_0',\n",
       " 'M_0',\n",
       " 'M_0',\n",
       " 'M_1',\n",
       " 'M_1',\n",
       " 'F_0',\n",
       " 'F_0',\n",
       " 'F_0',\n",
       " 'F_0',\n",
       " 'F_0',\n",
       " 'F_0',\n",
       " 'F_0',\n",
       " 'F_0',\n",
       " 'F_0',\n",
       " 'F_0',\n",
       " 'M_1',\n",
       " 'M_1',\n",
       " 'M_1',\n",
       " 'M_1',\n",
       " 'M_1',\n",
       " 'M_0',\n",
       " 'M_0',\n",
       " 'M_0',\n",
       " 'F_1',\n",
       " 'F_1',\n",
       " 'F_1',\n",
       " 'F_1',\n",
       " 'F_1',\n",
       " 'F_1',\n",
       " 'F_1',\n",
       " 'F_1',\n",
       " 'F_0',\n",
       " 'F_0',\n",
       " 'M_1',\n",
       " 'M_1',\n",
       " 'M_1',\n",
       " 'F_1',\n",
       " 'M_1',\n",
       " 'M_1',\n",
       " 'F_0',\n",
       " 'F_0',\n",
       " 'F_0',\n",
       " 'F_0',\n",
       " 'F_0',\n",
       " 'M_0',\n",
       " 'M_0',\n",
       " 'M_0',\n",
       " 'M_0',\n",
       " 'M_0',\n",
       " 'F_0',\n",
       " 'F_0',\n",
       " 'M_0',\n",
       " 'M_0',\n",
       " 'M_0',\n",
       " 'F_1',\n",
       " 'F_1',\n",
       " 'F_1',\n",
       " 'F_1',\n",
       " 'F_1',\n",
       " 'M_0',\n",
       " 'M_0',\n",
       " 'M_0',\n",
       " 'M_0',\n",
       " 'M_0',\n",
       " 'M_0',\n",
       " 'M_0',\n",
       " 'M_0',\n",
       " 'M_0',\n",
       " 'M_0',\n",
       " 'M_0',\n",
       " 'M_0',\n",
       " 'M_0',\n",
       " 'M_0',\n",
       " 'M_1',\n",
       " 'M_1',\n",
       " 'M_1',\n",
       " 'M_1',\n",
       " 'F_0',\n",
       " 'F_0',\n",
       " 'F_0',\n",
       " 'F_0',\n",
       " 'F_0',\n",
       " 'F_0',\n",
       " 'F_0',\n",
       " 'F_0',\n",
       " 'F_0',\n",
       " 'F_0',\n",
       " 'F_0',\n",
       " 'F_0',\n",
       " 'F_0',\n",
       " 'F_0',\n",
       " 'F_0',\n",
       " 'M_1',\n",
       " 'M_1',\n",
       " 'M_1',\n",
       " 'M_1',\n",
       " 'M_1',\n",
       " 'M_1',\n",
       " 'M_1',\n",
       " 'M_1',\n",
       " 'M_1',\n",
       " 'M_1',\n",
       " 'M_1',\n",
       " 'M_1',\n",
       " 'M_1',\n",
       " 'M_1',\n",
       " 'M_1',\n",
       " 'M_1',\n",
       " 'M_0',\n",
       " 'M_1',\n",
       " 'M_1',\n",
       " 'F_1',\n",
       " 'F_1',\n",
       " 'F_0',\n",
       " 'F_0',\n",
       " 'F_0',\n",
       " 'F_0',\n",
       " 'F_0',\n",
       " 'F_0',\n",
       " 'F_0',\n",
       " 'F_0',\n",
       " 'F_0',\n",
       " 'F_0',\n",
       " 'F_0',\n",
       " 'F_0',\n",
       " 'F_0',\n",
       " 'M_0',\n",
       " 'M_0',\n",
       " 'M_0',\n",
       " 'F_0',\n",
       " 'F_0',\n",
       " 'F_0',\n",
       " 'F_0',\n",
       " 'M_0',\n",
       " 'M_0',\n",
       " 'M_0',\n",
       " 'M_0',\n",
       " 'M_0',\n",
       " 'M_0',\n",
       " 'M_0',\n",
       " 'M_1',\n",
       " 'M_1',\n",
       " 'M_1',\n",
       " 'M_1',\n",
       " 'M_1',\n",
       " 'M_1',\n",
       " 'M_1',\n",
       " 'M_1',\n",
       " 'F_0',\n",
       " 'F_0',\n",
       " 'F_0',\n",
       " 'M_0',\n",
       " 'M_0',\n",
       " 'M_0',\n",
       " 'M_0',\n",
       " 'M_0',\n",
       " 'M_0',\n",
       " 'M_0',\n",
       " 'M_1',\n",
       " 'M_1',\n",
       " 'M_1',\n",
       " 'M_0',\n",
       " 'M_0',\n",
       " 'M_0',\n",
       " 'M_1',\n",
       " 'M_0',\n",
       " 'M_0',\n",
       " 'F_0',\n",
       " 'F_0',\n",
       " 'M_1',\n",
       " 'M_1',\n",
       " 'M_1',\n",
       " 'M_1',\n",
       " 'M_1',\n",
       " 'M_1',\n",
       " 'M_1',\n",
       " 'M_1',\n",
       " 'M_1',\n",
       " 'M_1',\n",
       " 'M_1',\n",
       " 'M_1',\n",
       " 'M_1',\n",
       " 'M_1',\n",
       " 'M_1',\n",
       " 'M_1',\n",
       " 'M_1',\n",
       " 'M_1',\n",
       " 'M_0',\n",
       " 'M_0',\n",
       " 'M_0',\n",
       " 'M_0',\n",
       " 'M_0',\n",
       " 'M_0',\n",
       " 'M_0',\n",
       " 'M_0',\n",
       " 'M_0',\n",
       " 'M_0',\n",
       " 'M_0',\n",
       " 'M_0',\n",
       " 'F_0',\n",
       " 'F_0',\n",
       " 'F_0',\n",
       " 'F_0',\n",
       " 'F_0',\n",
       " 'M_0',\n",
       " 'M_0',\n",
       " 'M_0',\n",
       " 'F_0',\n",
       " 'M_1',\n",
       " 'M_1',\n",
       " 'M_1',\n",
       " 'M_1',\n",
       " 'M_1',\n",
       " 'M_1',\n",
       " 'M_1',\n",
       " 'M_1',\n",
       " 'M_1',\n",
       " 'M_1',\n",
       " 'M_1',\n",
       " 'M_1',\n",
       " 'M_1',\n",
       " 'M_1',\n",
       " 'M_1',\n",
       " 'M_1',\n",
       " 'M_1',\n",
       " 'M_1',\n",
       " 'M_1',\n",
       " 'M_1',\n",
       " 'M_1',\n",
       " 'M_1',\n",
       " 'M_1',\n",
       " 'M_1',\n",
       " 'M_1',\n",
       " 'M_1',\n",
       " 'M_0',\n",
       " 'M_0',\n",
       " 'F_1',\n",
       " 'F_1',\n",
       " 'F_1',\n",
       " 'F_1',\n",
       " 'F_1',\n",
       " 'M_1',\n",
       " 'M_0',\n",
       " 'M_0',\n",
       " 'M_0',\n",
       " 'M_0',\n",
       " 'M_0',\n",
       " 'M_1',\n",
       " 'M_1',\n",
       " 'M_1',\n",
       " 'M_1',\n",
       " 'M_1',\n",
       " 'M_1',\n",
       " 'M_1',\n",
       " 'M_1',\n",
       " 'M_1',\n",
       " 'M_1',\n",
       " 'M_1',\n",
       " 'M_0',\n",
       " 'M_0',\n",
       " 'M_0',\n",
       " 'M_0',\n",
       " 'M_0',\n",
       " 'M_0',\n",
       " 'M_0',\n",
       " 'M_0',\n",
       " 'M_0',\n",
       " 'M_0',\n",
       " 'M_0',\n",
       " 'M_0',\n",
       " 'M_0',\n",
       " 'M_0',\n",
       " 'M_0',\n",
       " 'F_1',\n",
       " 'F_1',\n",
       " 'F_1',\n",
       " 'F_1',\n",
       " 'F_1',\n",
       " 'M_1',\n",
       " 'M_1',\n",
       " 'M_1',\n",
       " 'M_1',\n",
       " 'M_1',\n",
       " 'M_1',\n",
       " 'M_1',\n",
       " 'M_0',\n",
       " 'M_0',\n",
       " 'M_0',\n",
       " 'M_0',\n",
       " 'M_0',\n",
       " 'M_0',\n",
       " 'M_0',\n",
       " 'M_0',\n",
       " 'M_0',\n",
       " 'M_0',\n",
       " 'M_0',\n",
       " 'M_0',\n",
       " 'M_0',\n",
       " 'M_0',\n",
       " 'F_1',\n",
       " 'F_1',\n",
       " 'F_1',\n",
       " 'F_1',\n",
       " 'F_1',\n",
       " 'F_1',\n",
       " 'F_1',\n",
       " 'F_1',\n",
       " 'F_1',\n",
       " 'M_1',\n",
       " 'M_1',\n",
       " 'M_1',\n",
       " 'F_0',\n",
       " 'F_0',\n",
       " 'F_0',\n",
       " 'F_0',\n",
       " 'F_0',\n",
       " 'F_0',\n",
       " 'F_0',\n",
       " 'F_0',\n",
       " 'F_0',\n",
       " 'F_0',\n",
       " 'F_0',\n",
       " 'F_0',\n",
       " 'F_0',\n",
       " 'F_0',\n",
       " 'F_0',\n",
       " 'F_0',\n",
       " 'M_0',\n",
       " 'M_0',\n",
       " 'M_0',\n",
       " 'M_0',\n",
       " 'M_0',\n",
       " 'M_0',\n",
       " 'M_0',\n",
       " 'M_0',\n",
       " 'M_0',\n",
       " 'M_0',\n",
       " 'M_0',\n",
       " 'M_0',\n",
       " 'F_1',\n",
       " 'F_1',\n",
       " 'F_1',\n",
       " 'F_1',\n",
       " 'F_1',\n",
       " 'F_1',\n",
       " 'F_1',\n",
       " 'F_1',\n",
       " 'F_1',\n",
       " 'F_1',\n",
       " 'F_1',\n",
       " 'F_1',\n",
       " 'F_1',\n",
       " 'F_1',\n",
       " 'F_1',\n",
       " 'F_1',\n",
       " 'F_1',\n",
       " 'F_1',\n",
       " 'F_1',\n",
       " 'F_1',\n",
       " 'F_1',\n",
       " 'F_1',\n",
       " 'F_1',\n",
       " 'F_1',\n",
       " 'M_0',\n",
       " 'M_0',\n",
       " 'M_0',\n",
       " 'M_0',\n",
       " 'M_0',\n",
       " 'M_0',\n",
       " 'M_0',\n",
       " 'M_1',\n",
       " 'M_1',\n",
       " 'M_1',\n",
       " 'M_1',\n",
       " 'M_1',\n",
       " 'M_1',\n",
       " 'M_1',\n",
       " 'M_1',\n",
       " 'M_1',\n",
       " 'M_1',\n",
       " 'M_1',\n",
       " 'M_1',\n",
       " 'M_1',\n",
       " 'M_1',\n",
       " 'M_1',\n",
       " 'M_1',\n",
       " 'M_1',\n",
       " 'M_1',\n",
       " 'M_1',\n",
       " 'M_1',\n",
       " 'M_1',\n",
       " 'M_1',\n",
       " 'M_1',\n",
       " 'M_1',\n",
       " 'M_1',\n",
       " 'M_1',\n",
       " 'M_1',\n",
       " 'M_1',\n",
       " 'M_1',\n",
       " 'M_1',\n",
       " 'M_1',\n",
       " 'M_1',\n",
       " 'M_1',\n",
       " 'M_1',\n",
       " 'M_1',\n",
       " 'M_1',\n",
       " 'M_1',\n",
       " 'M_1',\n",
       " 'M_1',\n",
       " 'M_1',\n",
       " 'M_1',\n",
       " 'M_1',\n",
       " 'M_1',\n",
       " 'M_1',\n",
       " 'M_1',\n",
       " 'M_1',\n",
       " 'M_1',\n",
       " 'M_1',\n",
       " 'M_1',\n",
       " 'M_1',\n",
       " 'M_1',\n",
       " 'M_1',\n",
       " 'F_1',\n",
       " 'F_1',\n",
       " 'F_1',\n",
       " 'F_1',\n",
       " 'F_1',\n",
       " 'F_1',\n",
       " 'F_1',\n",
       " 'F_1',\n",
       " 'F_1',\n",
       " 'F_1',\n",
       " 'F_1',\n",
       " 'F_1',\n",
       " 'F_1',\n",
       " 'F_1',\n",
       " 'F_1',\n",
       " 'F_1',\n",
       " 'F_1',\n",
       " 'F_1',\n",
       " 'F_1',\n",
       " 'F_1',\n",
       " 'F_1',\n",
       " 'F_1',\n",
       " 'F_1',\n",
       " 'F_1',\n",
       " 'M_0',\n",
       " 'M_0',\n",
       " 'M_0',\n",
       " 'M_0',\n",
       " 'M_1',\n",
       " 'M_1',\n",
       " 'M_1',\n",
       " 'M_1',\n",
       " 'M_1',\n",
       " 'M_1',\n",
       " 'M_1',\n",
       " 'M_1',\n",
       " 'M_1',\n",
       " 'M_1',\n",
       " 'M_1',\n",
       " 'F_1',\n",
       " 'F_1',\n",
       " 'F_1',\n",
       " 'M_0',\n",
       " 'M_0',\n",
       " 'M_0',\n",
       " 'M_0',\n",
       " 'M_0',\n",
       " 'M_0',\n",
       " 'M_0',\n",
       " 'M_0',\n",
       " 'M_0',\n",
       " 'M_0',\n",
       " 'M_0',\n",
       " 'M_1',\n",
       " 'M_1',\n",
       " 'F_1',\n",
       " 'M_0',\n",
       " 'M_0',\n",
       " 'M_1',\n",
       " 'M_1',\n",
       " 'M_1',\n",
       " 'M_1',\n",
       " 'M_1',\n",
       " 'M_1',\n",
       " 'M_1',\n",
       " 'M_1',\n",
       " 'M_1',\n",
       " 'M_1',\n",
       " 'M_1',\n",
       " 'M_1',\n",
       " 'F_0',\n",
       " 'F_0',\n",
       " 'F_0',\n",
       " 'F_0',\n",
       " 'F_0',\n",
       " 'M_0',\n",
       " 'M_0',\n",
       " 'M_0',\n",
       " 'M_0',\n",
       " 'M_0',\n",
       " 'M_0',\n",
       " 'M_0',\n",
       " 'M_0',\n",
       " 'M_0',\n",
       " 'M_0',\n",
       " 'M_0',\n",
       " 'M_0',\n",
       " 'M_0',\n",
       " 'M_0',\n",
       " 'M_0',\n",
       " 'M_0',\n",
       " 'M_0',\n",
       " 'M_0',\n",
       " 'M_0',\n",
       " 'M_0',\n",
       " 'M_0',\n",
       " 'M_0',\n",
       " 'M_0',\n",
       " 'M_0',\n",
       " 'M_0',\n",
       " 'M_0',\n",
       " 'M_0',\n",
       " 'M_0',\n",
       " 'M_0',\n",
       " 'M_1',\n",
       " 'M_1',\n",
       " 'M_1',\n",
       " 'M_1',\n",
       " 'M_1',\n",
       " 'M_1',\n",
       " 'M_1',\n",
       " 'M_1',\n",
       " 'M_1',\n",
       " 'M_1',\n",
       " 'M_1',\n",
       " 'M_1',\n",
       " 'M_1',\n",
       " 'M_1',\n",
       " 'M_1',\n",
       " 'M_1',\n",
       " 'M_1',\n",
       " 'M_1',\n",
       " 'M_1',\n",
       " 'M_1',\n",
       " 'M_1',\n",
       " 'M_1',\n",
       " 'M_0',\n",
       " 'M_0',\n",
       " 'M_0',\n",
       " 'M_0',\n",
       " 'M_0',\n",
       " 'M_0',\n",
       " 'M_0',\n",
       " 'M_0',\n",
       " 'M_0',\n",
       " 'M_0',\n",
       " 'M_0',\n",
       " 'M_0',\n",
       " 'M_0',\n",
       " 'M_0',\n",
       " 'M_0',\n",
       " 'M_0',\n",
       " 'M_0',\n",
       " 'M_0',\n",
       " 'M_0',\n",
       " 'M_0',\n",
       " 'M_0',\n",
       " 'M_0',\n",
       " 'M_0',\n",
       " 'M_0',\n",
       " 'M_0',\n",
       " 'M_0',\n",
       " 'M_0',\n",
       " 'M_0',\n",
       " 'M_0',\n",
       " 'M_1',\n",
       " 'M_1',\n",
       " 'F_1',\n",
       " 'M_0',\n",
       " 'M_1',\n",
       " ...]"
      ]
     },
     "execution_count": 47,
     "metadata": {},
     "output_type": "execute_result"
    }
   ],
   "source": [
    "lst"
   ]
  },
  {
   "cell_type": "code",
   "execution_count": 49,
   "id": "5d7a7884-5d4d-48c6-bb1c-5d074d4bf0ad",
   "metadata": {},
   "outputs": [],
   "source": [
    "df['MaritalGender']=lst"
   ]
  },
  {
   "cell_type": "code",
   "execution_count": 51,
   "id": "b2e9dd12-0bd2-4af4-a1a4-1611fc074389",
   "metadata": {},
   "outputs": [
    {
     "data": {
      "text/html": [
       "<div>\n",
       "<style scoped>\n",
       "    .dataframe tbody tr th:only-of-type {\n",
       "        vertical-align: middle;\n",
       "    }\n",
       "\n",
       "    .dataframe tbody tr th {\n",
       "        vertical-align: top;\n",
       "    }\n",
       "\n",
       "    .dataframe thead th {\n",
       "        text-align: right;\n",
       "    }\n",
       "</style>\n",
       "<table border=\"1\" class=\"dataframe\">\n",
       "  <thead>\n",
       "    <tr style=\"text-align: right;\">\n",
       "      <th></th>\n",
       "      <th>User_ID</th>\n",
       "      <th>Product_ID</th>\n",
       "      <th>Gender</th>\n",
       "      <th>Age</th>\n",
       "      <th>Occupation</th>\n",
       "      <th>City_Category</th>\n",
       "      <th>Stay_In_Current_City_Years</th>\n",
       "      <th>Marital_Status</th>\n",
       "      <th>Product_Category_1</th>\n",
       "      <th>Purchase</th>\n",
       "      <th>MaritalGender</th>\n",
       "    </tr>\n",
       "  </thead>\n",
       "  <tbody>\n",
       "    <tr>\n",
       "      <th>0</th>\n",
       "      <td>1000001</td>\n",
       "      <td>P00069042</td>\n",
       "      <td>F</td>\n",
       "      <td>0-17</td>\n",
       "      <td>10</td>\n",
       "      <td>A</td>\n",
       "      <td>2</td>\n",
       "      <td>0</td>\n",
       "      <td>3</td>\n",
       "      <td>8370</td>\n",
       "      <td>F_0</td>\n",
       "    </tr>\n",
       "    <tr>\n",
       "      <th>1</th>\n",
       "      <td>1000001</td>\n",
       "      <td>P00248942</td>\n",
       "      <td>F</td>\n",
       "      <td>0-17</td>\n",
       "      <td>10</td>\n",
       "      <td>A</td>\n",
       "      <td>2</td>\n",
       "      <td>0</td>\n",
       "      <td>1</td>\n",
       "      <td>15200</td>\n",
       "      <td>F_0</td>\n",
       "    </tr>\n",
       "    <tr>\n",
       "      <th>2</th>\n",
       "      <td>1000001</td>\n",
       "      <td>P00087842</td>\n",
       "      <td>F</td>\n",
       "      <td>0-17</td>\n",
       "      <td>10</td>\n",
       "      <td>A</td>\n",
       "      <td>2</td>\n",
       "      <td>0</td>\n",
       "      <td>12</td>\n",
       "      <td>1422</td>\n",
       "      <td>F_0</td>\n",
       "    </tr>\n",
       "    <tr>\n",
       "      <th>3</th>\n",
       "      <td>1000001</td>\n",
       "      <td>P00085442</td>\n",
       "      <td>F</td>\n",
       "      <td>0-17</td>\n",
       "      <td>10</td>\n",
       "      <td>A</td>\n",
       "      <td>2</td>\n",
       "      <td>0</td>\n",
       "      <td>12</td>\n",
       "      <td>1057</td>\n",
       "      <td>F_0</td>\n",
       "    </tr>\n",
       "    <tr>\n",
       "      <th>4</th>\n",
       "      <td>1000002</td>\n",
       "      <td>P00285442</td>\n",
       "      <td>M</td>\n",
       "      <td>55+</td>\n",
       "      <td>16</td>\n",
       "      <td>C</td>\n",
       "      <td>4+</td>\n",
       "      <td>0</td>\n",
       "      <td>8</td>\n",
       "      <td>7969</td>\n",
       "      <td>M_0</td>\n",
       "    </tr>\n",
       "  </tbody>\n",
       "</table>\n",
       "</div>"
      ],
      "text/plain": [
       "   User_ID Product_ID Gender   Age  Occupation City_Category  \\\n",
       "0  1000001  P00069042      F  0-17          10             A   \n",
       "1  1000001  P00248942      F  0-17          10             A   \n",
       "2  1000001  P00087842      F  0-17          10             A   \n",
       "3  1000001  P00085442      F  0-17          10             A   \n",
       "4  1000002  P00285442      M   55+          16             C   \n",
       "\n",
       "  Stay_In_Current_City_Years  Marital_Status  Product_Category_1  Purchase  \\\n",
       "0                          2               0                   3      8370   \n",
       "1                          2               0                   1     15200   \n",
       "2                          2               0                  12      1422   \n",
       "3                          2               0                  12      1057   \n",
       "4                         4+               0                   8      7969   \n",
       "\n",
       "  MaritalGender  \n",
       "0           F_0  \n",
       "1           F_0  \n",
       "2           F_0  \n",
       "3           F_0  \n",
       "4           M_0  "
      ]
     },
     "execution_count": 51,
     "metadata": {},
     "output_type": "execute_result"
    }
   ],
   "source": [
    "df.head()"
   ]
  },
  {
   "cell_type": "code",
   "execution_count": 55,
   "id": "60d1e948-fa46-439c-8627-3969f81c2b85",
   "metadata": {},
   "outputs": [
    {
     "data": {
      "text/plain": [
       "<Axes: xlabel='Age', ylabel='count'>"
      ]
     },
     "execution_count": 55,
     "metadata": {},
     "output_type": "execute_result"
    },
    {
     "data": {
      "image/png": "[encoded data removed]",
      "text/plain": [
       "<Figure size 640x480 with 1 Axes>"
      ]
     },
     "metadata": {},
     "output_type": "display_data"
    }
   ],
   "source": [
    "sns.countplot(x=df['Age'],hue=df['MaritalGender'])"
   ]
  },
  {
   "cell_type": "code",
   "execution_count": 57,
   "id": "313781bd-d474-4ef6-9c7c-c936870e649a",
   "metadata": {},
   "outputs": [
    {
     "data": {
      "text/plain": [
       "<Axes: xlabel='Product_Category_1', ylabel='count'>"
      ]
     },
     "execution_count": 57,
     "metadata": {},
     "output_type": "execute_result"
    },
    {
     "data": {
      "image/png": "[encoded data removed]",
      "text/plain": [
       "<Figure size 640x480 with 1 Axes>"
      ]
     },
     "metadata": {},
     "output_type": "display_data"
    }
   ],
   "source": [
    "sns.countplot(x=df['Product_Category_1'],hue=df['MaritalGender'])"
   ]
  },
  {
   "cell_type": "code",
   "execution_count": 59,
   "id": "99ef660f-cb79-4019-aabd-126a192e50f5",
   "metadata": {},
   "outputs": [
    {
     "data": {
      "text/plain": [
       "<Axes: xlabel='Stay_In_Current_City_Years', ylabel='count'>"
      ]
     },
     "execution_count": 59,
     "metadata": {},
     "output_type": "execute_result"
    },
    {
     "data": {
      "image/png": "[encoded data removed]",
      "text/plain": [
       "<Figure size 640x480 with 1 Axes>"
      ]
     },
     "metadata": {},
     "output_type": "display_data"
    }
   ],
   "source": [
    "sns.countplot(x=df['Stay_In_Current_City_Years'],hue=df['MaritalGender'])"
   ]
  },
  {
   "cell_type": "code",
   "execution_count": 61,
   "id": "6a9a9479-b559-477c-9cbd-0eb8366060c3",
   "metadata": {},
   "outputs": [
    {
     "data": {
      "text/plain": [
       "<Axes: xlabel='City_Category', ylabel='count'>"
      ]
     },
     "execution_count": 61,
     "metadata": {},
     "output_type": "execute_result"
    },
    {
     "data": {
      "image/png": "[encoded data removed]",
      "text/plain": [
       "<Figure size 640x480 with 1 Axes>"
      ]
     },
     "metadata": {},
     "output_type": "display_data"
    }
   ],
   "source": [
    "sns.countplot(x=df['City_Category'],hue=df['MaritalGender'])"
   ]
  },
  {
   "cell_type": "code",
   "execution_count": null,
   "id": "b47bdbd8-ed0c-4746-ae5e-7ef3467355dd",
   "metadata": {},
   "outputs": [],
   "source": []
  }
 ],
 "metadata": {
  "kernelspec": {
   "display_name": "Python 3 (ipykernel)",
   "language": "python",
   "name": "python3"
  },
  "language_info": {
   "codemirror_mode": {
    "name": "ipython",
    "version": 3
   },
   "file_extension": ".py",
   "mimetype": "text/x-python",
   "name": "python",
   "nbconvert_exporter": "python",
   "pygments_lexer": "ipython3",
   "version": "3.12.4"
  }
 },
 "nbformat": 4,
 "nbformat_minor": 5
}
